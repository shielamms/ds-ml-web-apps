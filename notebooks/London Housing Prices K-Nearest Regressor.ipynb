{
 "cells": [
  {
   "cell_type": "code",
   "execution_count": 1,
   "id": "5878a5cc",
   "metadata": {},
   "outputs": [],
   "source": [
    "import pandas as pd"
   ]
  },
  {
   "cell_type": "code",
   "execution_count": 2,
   "id": "c16d7721",
   "metadata": {},
   "outputs": [],
   "source": [
    "yearly_data = pd.read_csv('data/london_yearly_housing.csv')\n",
    "monthly_data = pd.read_csv('data/london_monthly_housing.csv')"
   ]
  },
  {
   "cell_type": "code",
   "execution_count": 3,
   "id": "a47d84ff",
   "metadata": {},
   "outputs": [
    {
     "name": "stdout",
     "output_type": "stream",
     "text": [
      "<class 'pandas.core.frame.DataFrame'>\n",
      "RangeIndex: 1071 entries, 0 to 1070\n",
      "Data columns (total 12 columns):\n",
      " #   Column             Non-Null Count  Dtype  \n",
      "---  ------             --------------  -----  \n",
      " 0   code               1071 non-null   object \n",
      " 1   area               1071 non-null   object \n",
      " 2   date               1071 non-null   object \n",
      " 3   median_salary      1049 non-null   float64\n",
      " 4   life_satisfaction  352 non-null    float64\n",
      " 5   mean_salary        1071 non-null   object \n",
      " 6   recycling_pct      860 non-null    object \n",
      " 7   population_size    1018 non-null   float64\n",
      " 8   number_of_jobs     931 non-null    float64\n",
      " 9   area_size          666 non-null    float64\n",
      " 10  no_of_houses       666 non-null    float64\n",
      " 11  borough_flag       1071 non-null   int64  \n",
      "dtypes: float64(6), int64(1), object(5)\n",
      "memory usage: 100.5+ KB\n"
     ]
    }
   ],
   "source": [
    "yearly_data.info()"
   ]
  },
  {
   "cell_type": "code",
   "execution_count": 4,
   "id": "c7f206b3",
   "metadata": {},
   "outputs": [
    {
     "name": "stdout",
     "output_type": "stream",
     "text": [
      "<class 'pandas.core.frame.DataFrame'>\n",
      "RangeIndex: 13549 entries, 0 to 13548\n",
      "Data columns (total 7 columns):\n",
      " #   Column         Non-Null Count  Dtype  \n",
      "---  ------         --------------  -----  \n",
      " 0   date           13549 non-null  object \n",
      " 1   area           13549 non-null  object \n",
      " 2   average_price  13549 non-null  int64  \n",
      " 3   code           13549 non-null  object \n",
      " 4   houses_sold    13455 non-null  float64\n",
      " 5   no_of_crimes   7439 non-null   float64\n",
      " 6   borough_flag   13549 non-null  int64  \n",
      "dtypes: float64(2), int64(2), object(3)\n",
      "memory usage: 741.1+ KB\n"
     ]
    }
   ],
   "source": [
    "monthly_data.info()"
   ]
  },
  {
   "cell_type": "markdown",
   "id": "9abeddad",
   "metadata": {},
   "source": [
    "## Preprocessing"
   ]
  },
  {
   "cell_type": "markdown",
   "id": "08f98c49",
   "metadata": {},
   "source": [
    "### 1) Convert date column type to datetime"
   ]
  },
  {
   "cell_type": "code",
   "execution_count": 5,
   "id": "eae3455e",
   "metadata": {},
   "outputs": [],
   "source": [
    "yearly_data['date'] = pd.to_datetime(yearly_data['date'])\n",
    "monthly_data['date'] = pd.to_datetime(monthly_data['date'])"
   ]
  },
  {
   "cell_type": "code",
   "execution_count": 6,
   "id": "179e28ca",
   "metadata": {},
   "outputs": [
    {
     "name": "stdout",
     "output_type": "stream",
     "text": [
      "<class 'pandas.core.frame.DataFrame'>\n",
      "RangeIndex: 1071 entries, 0 to 1070\n",
      "Data columns (total 12 columns):\n",
      " #   Column             Non-Null Count  Dtype         \n",
      "---  ------             --------------  -----         \n",
      " 0   code               1071 non-null   object        \n",
      " 1   area               1071 non-null   object        \n",
      " 2   date               1071 non-null   datetime64[ns]\n",
      " 3   median_salary      1049 non-null   float64       \n",
      " 4   life_satisfaction  352 non-null    float64       \n",
      " 5   mean_salary        1071 non-null   object        \n",
      " 6   recycling_pct      860 non-null    object        \n",
      " 7   population_size    1018 non-null   float64       \n",
      " 8   number_of_jobs     931 non-null    float64       \n",
      " 9   area_size          666 non-null    float64       \n",
      " 10  no_of_houses       666 non-null    float64       \n",
      " 11  borough_flag       1071 non-null   int64         \n",
      "dtypes: datetime64[ns](1), float64(6), int64(1), object(4)\n",
      "memory usage: 100.5+ KB\n"
     ]
    }
   ],
   "source": [
    "yearly_data.info()"
   ]
  },
  {
   "cell_type": "markdown",
   "id": "0d1bf720",
   "metadata": {},
   "source": [
    "### 2) For simplicity, use only some features and drop the rest"
   ]
  },
  {
   "cell_type": "code",
   "execution_count": 8,
   "id": "42e43a5e",
   "metadata": {},
   "outputs": [],
   "source": [
    "relevant_yearly_features = ['area', 'date', 'median_salary', 'population_size']\n",
    "relevant_monthly_features = ['area', 'date', 'average_price']"
   ]
  },
  {
   "cell_type": "code",
   "execution_count": 9,
   "id": "4ea46166",
   "metadata": {},
   "outputs": [],
   "source": [
    "yearly_data = yearly_data[relevant_yearly_features]\n",
    "monthly_data = monthly_data[relevant_monthly_features]"
   ]
  },
  {
   "cell_type": "code",
   "execution_count": 11,
   "id": "fe41f26b",
   "metadata": {},
   "outputs": [],
   "source": [
    "yearly_data = yearly_data.dropna(subset=['median_salary', 'population_size'])"
   ]
  },
  {
   "cell_type": "code",
   "execution_count": 12,
   "id": "add47055",
   "metadata": {},
   "outputs": [
    {
     "name": "stdout",
     "output_type": "stream",
     "text": [
      "999\n",
      "13549\n"
     ]
    }
   ],
   "source": [
    "print(len(yearly_data))\n",
    "print(len(monthly_data))"
   ]
  },
  {
   "cell_type": "markdown",
   "id": "bf60590d",
   "metadata": {},
   "source": [
    "### 3) Get the year from date"
   ]
  },
  {
   "cell_type": "code",
   "execution_count": 13,
   "id": "144d5962",
   "metadata": {},
   "outputs": [],
   "source": [
    "yearly_data['year'] = pd.DatetimeIndex(yearly_data['date']).year\n",
    "monthly_data['year'] = pd.DatetimeIndex(monthly_data['date']).year\n",
    "\n",
    "monthly_data = monthly_data.drop(['date'], axis=1)"
   ]
  },
  {
   "cell_type": "markdown",
   "id": "9726dc77",
   "metadata": {},
   "source": [
    "### 4) Take the mean of monthly data and merge with annual data"
   ]
  },
  {
   "cell_type": "code",
   "execution_count": 14,
   "id": "cf640150",
   "metadata": {},
   "outputs": [
    {
     "data": {
      "text/html": [
       "<div>\n",
       "<style scoped>\n",
       "    .dataframe tbody tr th:only-of-type {\n",
       "        vertical-align: middle;\n",
       "    }\n",
       "\n",
       "    .dataframe tbody tr th {\n",
       "        vertical-align: top;\n",
       "    }\n",
       "\n",
       "    .dataframe thead th {\n",
       "        text-align: right;\n",
       "    }\n",
       "</style>\n",
       "<table border=\"1\" class=\"dataframe\">\n",
       "  <thead>\n",
       "    <tr style=\"text-align: right;\">\n",
       "      <th></th>\n",
       "      <th>area</th>\n",
       "      <th>year</th>\n",
       "      <th>average_price</th>\n",
       "    </tr>\n",
       "  </thead>\n",
       "  <tbody>\n",
       "    <tr>\n",
       "      <th>0</th>\n",
       "      <td>barking and dagenham</td>\n",
       "      <td>1995</td>\n",
       "      <td>51818.000000</td>\n",
       "    </tr>\n",
       "    <tr>\n",
       "      <th>1</th>\n",
       "      <td>barking and dagenham</td>\n",
       "      <td>1996</td>\n",
       "      <td>51718.250000</td>\n",
       "    </tr>\n",
       "    <tr>\n",
       "      <th>2</th>\n",
       "      <td>barking and dagenham</td>\n",
       "      <td>1997</td>\n",
       "      <td>55974.250000</td>\n",
       "    </tr>\n",
       "    <tr>\n",
       "      <th>3</th>\n",
       "      <td>barking and dagenham</td>\n",
       "      <td>1998</td>\n",
       "      <td>60285.750000</td>\n",
       "    </tr>\n",
       "    <tr>\n",
       "      <th>4</th>\n",
       "      <td>barking and dagenham</td>\n",
       "      <td>1999</td>\n",
       "      <td>65320.833333</td>\n",
       "    </tr>\n",
       "    <tr>\n",
       "      <th>...</th>\n",
       "      <td>...</td>\n",
       "      <td>...</td>\n",
       "      <td>...</td>\n",
       "    </tr>\n",
       "    <tr>\n",
       "      <th>1165</th>\n",
       "      <td>yorks and the humber</td>\n",
       "      <td>2016</td>\n",
       "      <td>149015.583333</td>\n",
       "    </tr>\n",
       "    <tr>\n",
       "      <th>1166</th>\n",
       "      <td>yorks and the humber</td>\n",
       "      <td>2017</td>\n",
       "      <td>154819.916667</td>\n",
       "    </tr>\n",
       "    <tr>\n",
       "      <th>1167</th>\n",
       "      <td>yorks and the humber</td>\n",
       "      <td>2018</td>\n",
       "      <td>159936.416667</td>\n",
       "    </tr>\n",
       "    <tr>\n",
       "      <th>1168</th>\n",
       "      <td>yorks and the humber</td>\n",
       "      <td>2019</td>\n",
       "      <td>163584.583333</td>\n",
       "    </tr>\n",
       "    <tr>\n",
       "      <th>1169</th>\n",
       "      <td>yorks and the humber</td>\n",
       "      <td>2020</td>\n",
       "      <td>165383.000000</td>\n",
       "    </tr>\n",
       "  </tbody>\n",
       "</table>\n",
       "<p>1170 rows × 3 columns</p>\n",
       "</div>"
      ],
      "text/plain": [
       "                      area  year  average_price\n",
       "0     barking and dagenham  1995   51818.000000\n",
       "1     barking and dagenham  1996   51718.250000\n",
       "2     barking and dagenham  1997   55974.250000\n",
       "3     barking and dagenham  1998   60285.750000\n",
       "4     barking and dagenham  1999   65320.833333\n",
       "...                    ...   ...            ...\n",
       "1165  yorks and the humber  2016  149015.583333\n",
       "1166  yorks and the humber  2017  154819.916667\n",
       "1167  yorks and the humber  2018  159936.416667\n",
       "1168  yorks and the humber  2019  163584.583333\n",
       "1169  yorks and the humber  2020  165383.000000\n",
       "\n",
       "[1170 rows x 3 columns]"
      ]
     },
     "execution_count": 14,
     "metadata": {},
     "output_type": "execute_result"
    }
   ],
   "source": [
    "mean_from_monthly = monthly_data.groupby(['area', 'year']).mean().reset_index()\n",
    "mean_from_monthly"
   ]
  },
  {
   "cell_type": "code",
   "execution_count": 15,
   "id": "1a4b41f5",
   "metadata": {},
   "outputs": [
    {
     "data": {
      "text/html": [
       "<div>\n",
       "<style scoped>\n",
       "    .dataframe tbody tr th:only-of-type {\n",
       "        vertical-align: middle;\n",
       "    }\n",
       "\n",
       "    .dataframe tbody tr th {\n",
       "        vertical-align: top;\n",
       "    }\n",
       "\n",
       "    .dataframe thead th {\n",
       "        text-align: right;\n",
       "    }\n",
       "</style>\n",
       "<table border=\"1\" class=\"dataframe\">\n",
       "  <thead>\n",
       "    <tr style=\"text-align: right;\">\n",
       "      <th></th>\n",
       "      <th>area</th>\n",
       "      <th>year</th>\n",
       "      <th>average_price</th>\n",
       "    </tr>\n",
       "  </thead>\n",
       "  <tbody>\n",
       "    <tr>\n",
       "      <th>0</th>\n",
       "      <td>barking and dagenham</td>\n",
       "      <td>1995</td>\n",
       "      <td>51818.000000</td>\n",
       "    </tr>\n",
       "    <tr>\n",
       "      <th>1</th>\n",
       "      <td>barking and dagenham</td>\n",
       "      <td>1996</td>\n",
       "      <td>51718.250000</td>\n",
       "    </tr>\n",
       "    <tr>\n",
       "      <th>2</th>\n",
       "      <td>barking and dagenham</td>\n",
       "      <td>1997</td>\n",
       "      <td>55974.250000</td>\n",
       "    </tr>\n",
       "    <tr>\n",
       "      <th>3</th>\n",
       "      <td>barking and dagenham</td>\n",
       "      <td>1998</td>\n",
       "      <td>60285.750000</td>\n",
       "    </tr>\n",
       "    <tr>\n",
       "      <th>4</th>\n",
       "      <td>barking and dagenham</td>\n",
       "      <td>1999</td>\n",
       "      <td>65320.833333</td>\n",
       "    </tr>\n",
       "    <tr>\n",
       "      <th>...</th>\n",
       "      <td>...</td>\n",
       "      <td>...</td>\n",
       "      <td>...</td>\n",
       "    </tr>\n",
       "    <tr>\n",
       "      <th>1165</th>\n",
       "      <td>yorks and the humber</td>\n",
       "      <td>2016</td>\n",
       "      <td>149015.583333</td>\n",
       "    </tr>\n",
       "    <tr>\n",
       "      <th>1166</th>\n",
       "      <td>yorks and the humber</td>\n",
       "      <td>2017</td>\n",
       "      <td>154819.916667</td>\n",
       "    </tr>\n",
       "    <tr>\n",
       "      <th>1167</th>\n",
       "      <td>yorks and the humber</td>\n",
       "      <td>2018</td>\n",
       "      <td>159936.416667</td>\n",
       "    </tr>\n",
       "    <tr>\n",
       "      <th>1168</th>\n",
       "      <td>yorks and the humber</td>\n",
       "      <td>2019</td>\n",
       "      <td>163584.583333</td>\n",
       "    </tr>\n",
       "    <tr>\n",
       "      <th>1169</th>\n",
       "      <td>yorks and the humber</td>\n",
       "      <td>2020</td>\n",
       "      <td>165383.000000</td>\n",
       "    </tr>\n",
       "  </tbody>\n",
       "</table>\n",
       "<p>1170 rows × 3 columns</p>\n",
       "</div>"
      ],
      "text/plain": [
       "                      area  year  average_price\n",
       "0     barking and dagenham  1995   51818.000000\n",
       "1     barking and dagenham  1996   51718.250000\n",
       "2     barking and dagenham  1997   55974.250000\n",
       "3     barking and dagenham  1998   60285.750000\n",
       "4     barking and dagenham  1999   65320.833333\n",
       "...                    ...   ...            ...\n",
       "1165  yorks and the humber  2016  149015.583333\n",
       "1166  yorks and the humber  2017  154819.916667\n",
       "1167  yorks and the humber  2018  159936.416667\n",
       "1168  yorks and the humber  2019  163584.583333\n",
       "1169  yorks and the humber  2020  165383.000000\n",
       "\n",
       "[1170 rows x 3 columns]"
      ]
     },
     "execution_count": 15,
     "metadata": {},
     "output_type": "execute_result"
    }
   ],
   "source": [
    "mean_from_monthly"
   ]
  },
  {
   "cell_type": "code",
   "execution_count": 16,
   "id": "6d36fd81",
   "metadata": {},
   "outputs": [],
   "source": [
    "yearly_data = pd.merge(yearly_data, mean_from_monthly, on=['area', 'year'], how='inner')"
   ]
  },
  {
   "cell_type": "code",
   "execution_count": 17,
   "id": "5f23401b",
   "metadata": {},
   "outputs": [],
   "source": [
    "yearly_data = yearly_data.drop(['date'], axis=1)"
   ]
  },
  {
   "cell_type": "code",
   "execution_count": 18,
   "id": "3c807e1e",
   "metadata": {},
   "outputs": [
    {
     "data": {
      "text/html": [
       "<div>\n",
       "<style scoped>\n",
       "    .dataframe tbody tr th:only-of-type {\n",
       "        vertical-align: middle;\n",
       "    }\n",
       "\n",
       "    .dataframe tbody tr th {\n",
       "        vertical-align: top;\n",
       "    }\n",
       "\n",
       "    .dataframe thead th {\n",
       "        text-align: right;\n",
       "    }\n",
       "</style>\n",
       "<table border=\"1\" class=\"dataframe\">\n",
       "  <thead>\n",
       "    <tr style=\"text-align: right;\">\n",
       "      <th></th>\n",
       "      <th>area</th>\n",
       "      <th>median_salary</th>\n",
       "      <th>population_size</th>\n",
       "      <th>year</th>\n",
       "      <th>average_price</th>\n",
       "    </tr>\n",
       "  </thead>\n",
       "  <tbody>\n",
       "    <tr>\n",
       "      <th>0</th>\n",
       "      <td>city of london</td>\n",
       "      <td>33020.0</td>\n",
       "      <td>6581.0</td>\n",
       "      <td>1999</td>\n",
       "      <td>171300.083333</td>\n",
       "    </tr>\n",
       "    <tr>\n",
       "      <th>1</th>\n",
       "      <td>barking and dagenham</td>\n",
       "      <td>21480.0</td>\n",
       "      <td>162444.0</td>\n",
       "      <td>1999</td>\n",
       "      <td>65320.833333</td>\n",
       "    </tr>\n",
       "    <tr>\n",
       "      <th>2</th>\n",
       "      <td>barnet</td>\n",
       "      <td>19568.0</td>\n",
       "      <td>313469.0</td>\n",
       "      <td>1999</td>\n",
       "      <td>136004.416667</td>\n",
       "    </tr>\n",
       "    <tr>\n",
       "      <th>3</th>\n",
       "      <td>bexley</td>\n",
       "      <td>18621.0</td>\n",
       "      <td>217458.0</td>\n",
       "      <td>1999</td>\n",
       "      <td>86777.666667</td>\n",
       "    </tr>\n",
       "    <tr>\n",
       "      <th>4</th>\n",
       "      <td>brent</td>\n",
       "      <td>18532.0</td>\n",
       "      <td>260317.0</td>\n",
       "      <td>1999</td>\n",
       "      <td>112157.416667</td>\n",
       "    </tr>\n",
       "    <tr>\n",
       "      <th>...</th>\n",
       "      <td>...</td>\n",
       "      <td>...</td>\n",
       "      <td>...</td>\n",
       "      <td>...</td>\n",
       "      <td>...</td>\n",
       "    </tr>\n",
       "    <tr>\n",
       "      <th>836</th>\n",
       "      <td>south east</td>\n",
       "      <td>30849.0</td>\n",
       "      <td>9133625.0</td>\n",
       "      <td>2018</td>\n",
       "      <td>323412.666667</td>\n",
       "    </tr>\n",
       "    <tr>\n",
       "      <th>837</th>\n",
       "      <td>south west</td>\n",
       "      <td>27956.0</td>\n",
       "      <td>5599735.0</td>\n",
       "      <td>2018</td>\n",
       "      <td>254385.500000</td>\n",
       "    </tr>\n",
       "    <tr>\n",
       "      <th>838</th>\n",
       "      <td>inner london</td>\n",
       "      <td>42153.0</td>\n",
       "      <td>3600203.0</td>\n",
       "      <td>2018</td>\n",
       "      <td>577009.083333</td>\n",
       "    </tr>\n",
       "    <tr>\n",
       "      <th>839</th>\n",
       "      <td>outer london</td>\n",
       "      <td>31031.0</td>\n",
       "      <td>5307878.0</td>\n",
       "      <td>2018</td>\n",
       "      <td>428121.666667</td>\n",
       "    </tr>\n",
       "    <tr>\n",
       "      <th>840</th>\n",
       "      <td>england</td>\n",
       "      <td>29856.0</td>\n",
       "      <td>55977178.0</td>\n",
       "      <td>2018</td>\n",
       "      <td>245018.333333</td>\n",
       "    </tr>\n",
       "  </tbody>\n",
       "</table>\n",
       "<p>841 rows × 5 columns</p>\n",
       "</div>"
      ],
      "text/plain": [
       "                     area  median_salary  population_size  year  average_price\n",
       "0          city of london        33020.0           6581.0  1999  171300.083333\n",
       "1    barking and dagenham        21480.0         162444.0  1999   65320.833333\n",
       "2                  barnet        19568.0         313469.0  1999  136004.416667\n",
       "3                  bexley        18621.0         217458.0  1999   86777.666667\n",
       "4                   brent        18532.0         260317.0  1999  112157.416667\n",
       "..                    ...            ...              ...   ...            ...\n",
       "836            south east        30849.0        9133625.0  2018  323412.666667\n",
       "837            south west        27956.0        5599735.0  2018  254385.500000\n",
       "838          inner london        42153.0        3600203.0  2018  577009.083333\n",
       "839          outer london        31031.0        5307878.0  2018  428121.666667\n",
       "840               england        29856.0       55977178.0  2018  245018.333333\n",
       "\n",
       "[841 rows x 5 columns]"
      ]
     },
     "execution_count": 18,
     "metadata": {},
     "output_type": "execute_result"
    }
   ],
   "source": [
    "yearly_data"
   ]
  },
  {
   "cell_type": "code",
   "execution_count": 19,
   "id": "c7a035f1",
   "metadata": {},
   "outputs": [
    {
     "data": {
      "text/html": [
       "<div>\n",
       "<style scoped>\n",
       "    .dataframe tbody tr th:only-of-type {\n",
       "        vertical-align: middle;\n",
       "    }\n",
       "\n",
       "    .dataframe tbody tr th {\n",
       "        vertical-align: top;\n",
       "    }\n",
       "\n",
       "    .dataframe thead th {\n",
       "        text-align: right;\n",
       "    }\n",
       "</style>\n",
       "<table border=\"1\" class=\"dataframe\">\n",
       "  <thead>\n",
       "    <tr style=\"text-align: right;\">\n",
       "      <th></th>\n",
       "      <th>median_salary</th>\n",
       "      <th>population_size</th>\n",
       "      <th>year</th>\n",
       "      <th>average_price</th>\n",
       "    </tr>\n",
       "  </thead>\n",
       "  <tbody>\n",
       "    <tr>\n",
       "      <th>count</th>\n",
       "      <td>841.000000</td>\n",
       "      <td>8.410000e+02</td>\n",
       "      <td>841.000000</td>\n",
       "      <td>8.410000e+02</td>\n",
       "    </tr>\n",
       "    <tr>\n",
       "      <th>mean</th>\n",
       "      <td>28530.839477</td>\n",
       "      <td>2.553804e+06</td>\n",
       "      <td>2008.557669</td>\n",
       "      <td>2.957427e+05</td>\n",
       "    </tr>\n",
       "    <tr>\n",
       "      <th>std</th>\n",
       "      <td>6409.355450</td>\n",
       "      <td>8.092874e+06</td>\n",
       "      <td>5.732266</td>\n",
       "      <td>1.823522e+05</td>\n",
       "    </tr>\n",
       "    <tr>\n",
       "      <th>min</th>\n",
       "      <td>15684.000000</td>\n",
       "      <td>6.581000e+03</td>\n",
       "      <td>1999.000000</td>\n",
       "      <td>4.699950e+04</td>\n",
       "    </tr>\n",
       "    <tr>\n",
       "      <th>25%</th>\n",
       "      <td>24357.000000</td>\n",
       "      <td>2.147250e+05</td>\n",
       "      <td>2004.000000</td>\n",
       "      <td>1.802373e+05</td>\n",
       "    </tr>\n",
       "    <tr>\n",
       "      <th>50%</th>\n",
       "      <td>28034.000000</td>\n",
       "      <td>2.683350e+05</td>\n",
       "      <td>2009.000000</td>\n",
       "      <td>2.501425e+05</td>\n",
       "    </tr>\n",
       "    <tr>\n",
       "      <th>75%</th>\n",
       "      <td>31307.000000</td>\n",
       "      <td>3.493080e+05</td>\n",
       "      <td>2014.000000</td>\n",
       "      <td>3.625756e+05</td>\n",
       "    </tr>\n",
       "    <tr>\n",
       "      <th>max</th>\n",
       "      <td>61203.000000</td>\n",
       "      <td>5.597718e+07</td>\n",
       "      <td>2018.000000</td>\n",
       "      <td>1.363880e+06</td>\n",
       "    </tr>\n",
       "  </tbody>\n",
       "</table>\n",
       "</div>"
      ],
      "text/plain": [
       "       median_salary  population_size         year  average_price\n",
       "count     841.000000     8.410000e+02   841.000000   8.410000e+02\n",
       "mean    28530.839477     2.553804e+06  2008.557669   2.957427e+05\n",
       "std      6409.355450     8.092874e+06     5.732266   1.823522e+05\n",
       "min     15684.000000     6.581000e+03  1999.000000   4.699950e+04\n",
       "25%     24357.000000     2.147250e+05  2004.000000   1.802373e+05\n",
       "50%     28034.000000     2.683350e+05  2009.000000   2.501425e+05\n",
       "75%     31307.000000     3.493080e+05  2014.000000   3.625756e+05\n",
       "max     61203.000000     5.597718e+07  2018.000000   1.363880e+06"
      ]
     },
     "execution_count": 19,
     "metadata": {},
     "output_type": "execute_result"
    }
   ],
   "source": [
    "yearly_data.describe()"
   ]
  },
  {
   "cell_type": "markdown",
   "id": "c23b1ff5",
   "metadata": {},
   "source": [
    "### 5) Encode and scale features"
   ]
  },
  {
   "cell_type": "code",
   "execution_count": 20,
   "id": "a746c309",
   "metadata": {},
   "outputs": [],
   "source": [
    "from sklearn.preprocessing import LabelEncoder, StandardScaler"
   ]
  },
  {
   "cell_type": "code",
   "execution_count": 21,
   "id": "4d88db44",
   "metadata": {},
   "outputs": [],
   "source": [
    "encoder = LabelEncoder()"
   ]
  },
  {
   "cell_type": "code",
   "execution_count": 22,
   "id": "f4853a0c",
   "metadata": {},
   "outputs": [],
   "source": [
    "yearly_data['area'] = encoder.fit_transform(yearly_data['area'])"
   ]
  },
  {
   "cell_type": "code",
   "execution_count": 23,
   "id": "5a067ede",
   "metadata": {},
   "outputs": [
    {
     "data": {
      "text/html": [
       "<div>\n",
       "<style scoped>\n",
       "    .dataframe tbody tr th:only-of-type {\n",
       "        vertical-align: middle;\n",
       "    }\n",
       "\n",
       "    .dataframe tbody tr th {\n",
       "        vertical-align: top;\n",
       "    }\n",
       "\n",
       "    .dataframe thead th {\n",
       "        text-align: right;\n",
       "    }\n",
       "</style>\n",
       "<table border=\"1\" class=\"dataframe\">\n",
       "  <thead>\n",
       "    <tr style=\"text-align: right;\">\n",
       "      <th></th>\n",
       "      <th>area</th>\n",
       "      <th>median_salary</th>\n",
       "      <th>population_size</th>\n",
       "      <th>year</th>\n",
       "      <th>average_price</th>\n",
       "    </tr>\n",
       "  </thead>\n",
       "  <tbody>\n",
       "    <tr>\n",
       "      <th>0</th>\n",
       "      <td>6</td>\n",
       "      <td>33020.0</td>\n",
       "      <td>6581.0</td>\n",
       "      <td>1999</td>\n",
       "      <td>171300.083333</td>\n",
       "    </tr>\n",
       "    <tr>\n",
       "      <th>1</th>\n",
       "      <td>0</td>\n",
       "      <td>21480.0</td>\n",
       "      <td>162444.0</td>\n",
       "      <td>1999</td>\n",
       "      <td>65320.833333</td>\n",
       "    </tr>\n",
       "    <tr>\n",
       "      <th>2</th>\n",
       "      <td>1</td>\n",
       "      <td>19568.0</td>\n",
       "      <td>313469.0</td>\n",
       "      <td>1999</td>\n",
       "      <td>136004.416667</td>\n",
       "    </tr>\n",
       "    <tr>\n",
       "      <th>3</th>\n",
       "      <td>2</td>\n",
       "      <td>18621.0</td>\n",
       "      <td>217458.0</td>\n",
       "      <td>1999</td>\n",
       "      <td>86777.666667</td>\n",
       "    </tr>\n",
       "    <tr>\n",
       "      <th>4</th>\n",
       "      <td>3</td>\n",
       "      <td>18532.0</td>\n",
       "      <td>260317.0</td>\n",
       "      <td>1999</td>\n",
       "      <td>112157.416667</td>\n",
       "    </tr>\n",
       "    <tr>\n",
       "      <th>...</th>\n",
       "      <td>...</td>\n",
       "      <td>...</td>\n",
       "      <td>...</td>\n",
       "      <td>...</td>\n",
       "      <td>...</td>\n",
       "    </tr>\n",
       "    <tr>\n",
       "      <th>836</th>\n",
       "      <td>34</td>\n",
       "      <td>30849.0</td>\n",
       "      <td>9133625.0</td>\n",
       "      <td>2018</td>\n",
       "      <td>323412.666667</td>\n",
       "    </tr>\n",
       "    <tr>\n",
       "      <th>837</th>\n",
       "      <td>35</td>\n",
       "      <td>27956.0</td>\n",
       "      <td>5599735.0</td>\n",
       "      <td>2018</td>\n",
       "      <td>254385.500000</td>\n",
       "    </tr>\n",
       "    <tr>\n",
       "      <th>838</th>\n",
       "      <td>20</td>\n",
       "      <td>42153.0</td>\n",
       "      <td>3600203.0</td>\n",
       "      <td>2018</td>\n",
       "      <td>577009.083333</td>\n",
       "    </tr>\n",
       "    <tr>\n",
       "      <th>839</th>\n",
       "      <td>31</td>\n",
       "      <td>31031.0</td>\n",
       "      <td>5307878.0</td>\n",
       "      <td>2018</td>\n",
       "      <td>428121.666667</td>\n",
       "    </tr>\n",
       "    <tr>\n",
       "      <th>840</th>\n",
       "      <td>11</td>\n",
       "      <td>29856.0</td>\n",
       "      <td>55977178.0</td>\n",
       "      <td>2018</td>\n",
       "      <td>245018.333333</td>\n",
       "    </tr>\n",
       "  </tbody>\n",
       "</table>\n",
       "<p>841 rows × 5 columns</p>\n",
       "</div>"
      ],
      "text/plain": [
       "     area  median_salary  population_size  year  average_price\n",
       "0       6        33020.0           6581.0  1999  171300.083333\n",
       "1       0        21480.0         162444.0  1999   65320.833333\n",
       "2       1        19568.0         313469.0  1999  136004.416667\n",
       "3       2        18621.0         217458.0  1999   86777.666667\n",
       "4       3        18532.0         260317.0  1999  112157.416667\n",
       "..    ...            ...              ...   ...            ...\n",
       "836    34        30849.0        9133625.0  2018  323412.666667\n",
       "837    35        27956.0        5599735.0  2018  254385.500000\n",
       "838    20        42153.0        3600203.0  2018  577009.083333\n",
       "839    31        31031.0        5307878.0  2018  428121.666667\n",
       "840    11        29856.0       55977178.0  2018  245018.333333\n",
       "\n",
       "[841 rows x 5 columns]"
      ]
     },
     "execution_count": 23,
     "metadata": {},
     "output_type": "execute_result"
    }
   ],
   "source": [
    "yearly_data"
   ]
  },
  {
   "cell_type": "code",
   "execution_count": 24,
   "id": "3dfe0139",
   "metadata": {},
   "outputs": [],
   "source": [
    "y = yearly_data['average_price']\n",
    "X = yearly_data.drop(['average_price'], axis=1)"
   ]
  },
  {
   "cell_type": "code",
   "execution_count": 25,
   "id": "2b056971",
   "metadata": {},
   "outputs": [],
   "source": [
    "scaler = StandardScaler()"
   ]
  },
  {
   "cell_type": "code",
   "execution_count": 26,
   "id": "bbf69d2e",
   "metadata": {},
   "outputs": [],
   "source": [
    "X = scaler.fit_transform(X)"
   ]
  },
  {
   "cell_type": "markdown",
   "id": "cfb56a3d",
   "metadata": {},
   "source": [
    "## Split to training and test"
   ]
  },
  {
   "cell_type": "code",
   "execution_count": 27,
   "id": "195edfd6",
   "metadata": {},
   "outputs": [],
   "source": [
    "from sklearn.model_selection import train_test_split"
   ]
  },
  {
   "cell_type": "code",
   "execution_count": 28,
   "id": "19d5daae",
   "metadata": {},
   "outputs": [],
   "source": [
    "X_train, X_test, y_train, y_test = train_test_split(X, y, train_size=0.7)"
   ]
  },
  {
   "cell_type": "markdown",
   "id": "4d7d3743",
   "metadata": {},
   "source": [
    "## Create the Model"
   ]
  },
  {
   "cell_type": "code",
   "execution_count": 29,
   "id": "955d0f0b",
   "metadata": {},
   "outputs": [],
   "source": [
    "from math import sqrt\n",
    "from sklearn.neighbors import KNeighborsRegressor\n",
    "from sklearn.metrics import mean_squared_error"
   ]
  },
  {
   "cell_type": "code",
   "execution_count": 30,
   "id": "2822e5bc",
   "metadata": {},
   "outputs": [],
   "source": [
    "model = KNeighborsRegressor(n_neighbors=3)"
   ]
  },
  {
   "cell_type": "code",
   "execution_count": 31,
   "id": "6bb7ae58",
   "metadata": {},
   "outputs": [
    {
     "data": {
      "text/html": [
       "<style>#sk-container-id-1 {color: black;background-color: white;}#sk-container-id-1 pre{padding: 0;}#sk-container-id-1 div.sk-toggleable {background-color: white;}#sk-container-id-1 label.sk-toggleable__label {cursor: pointer;display: block;width: 100%;margin-bottom: 0;padding: 0.3em;box-sizing: border-box;text-align: center;}#sk-container-id-1 label.sk-toggleable__label-arrow:before {content: \"▸\";float: left;margin-right: 0.25em;color: #696969;}#sk-container-id-1 label.sk-toggleable__label-arrow:hover:before {color: black;}#sk-container-id-1 div.sk-estimator:hover label.sk-toggleable__label-arrow:before {color: black;}#sk-container-id-1 div.sk-toggleable__content {max-height: 0;max-width: 0;overflow: hidden;text-align: left;background-color: #f0f8ff;}#sk-container-id-1 div.sk-toggleable__content pre {margin: 0.2em;color: black;border-radius: 0.25em;background-color: #f0f8ff;}#sk-container-id-1 input.sk-toggleable__control:checked~div.sk-toggleable__content {max-height: 200px;max-width: 100%;overflow: auto;}#sk-container-id-1 input.sk-toggleable__control:checked~label.sk-toggleable__label-arrow:before {content: \"▾\";}#sk-container-id-1 div.sk-estimator input.sk-toggleable__control:checked~label.sk-toggleable__label {background-color: #d4ebff;}#sk-container-id-1 div.sk-label input.sk-toggleable__control:checked~label.sk-toggleable__label {background-color: #d4ebff;}#sk-container-id-1 input.sk-hidden--visually {border: 0;clip: rect(1px 1px 1px 1px);clip: rect(1px, 1px, 1px, 1px);height: 1px;margin: -1px;overflow: hidden;padding: 0;position: absolute;width: 1px;}#sk-container-id-1 div.sk-estimator {font-family: monospace;background-color: #f0f8ff;border: 1px dotted black;border-radius: 0.25em;box-sizing: border-box;margin-bottom: 0.5em;}#sk-container-id-1 div.sk-estimator:hover {background-color: #d4ebff;}#sk-container-id-1 div.sk-parallel-item::after {content: \"\";width: 100%;border-bottom: 1px solid gray;flex-grow: 1;}#sk-container-id-1 div.sk-label:hover label.sk-toggleable__label {background-color: #d4ebff;}#sk-container-id-1 div.sk-serial::before {content: \"\";position: absolute;border-left: 1px solid gray;box-sizing: border-box;top: 0;bottom: 0;left: 50%;z-index: 0;}#sk-container-id-1 div.sk-serial {display: flex;flex-direction: column;align-items: center;background-color: white;padding-right: 0.2em;padding-left: 0.2em;position: relative;}#sk-container-id-1 div.sk-item {position: relative;z-index: 1;}#sk-container-id-1 div.sk-parallel {display: flex;align-items: stretch;justify-content: center;background-color: white;position: relative;}#sk-container-id-1 div.sk-item::before, #sk-container-id-1 div.sk-parallel-item::before {content: \"\";position: absolute;border-left: 1px solid gray;box-sizing: border-box;top: 0;bottom: 0;left: 50%;z-index: -1;}#sk-container-id-1 div.sk-parallel-item {display: flex;flex-direction: column;z-index: 1;position: relative;background-color: white;}#sk-container-id-1 div.sk-parallel-item:first-child::after {align-self: flex-end;width: 50%;}#sk-container-id-1 div.sk-parallel-item:last-child::after {align-self: flex-start;width: 50%;}#sk-container-id-1 div.sk-parallel-item:only-child::after {width: 0;}#sk-container-id-1 div.sk-dashed-wrapped {border: 1px dashed gray;margin: 0 0.4em 0.5em 0.4em;box-sizing: border-box;padding-bottom: 0.4em;background-color: white;}#sk-container-id-1 div.sk-label label {font-family: monospace;font-weight: bold;display: inline-block;line-height: 1.2em;}#sk-container-id-1 div.sk-label-container {text-align: center;}#sk-container-id-1 div.sk-container {/* jupyter's `normalize.less` sets `[hidden] { display: none; }` but bootstrap.min.css set `[hidden] { display: none !important; }` so we also need the `!important` here to be able to override the default hidden behavior on the sphinx rendered scikit-learn.org. See: https://github.com/scikit-learn/scikit-learn/issues/21755 */display: inline-block !important;position: relative;}#sk-container-id-1 div.sk-text-repr-fallback {display: none;}</style><div id=\"sk-container-id-1\" class=\"sk-top-container\"><div class=\"sk-text-repr-fallback\"><pre>KNeighborsRegressor(n_neighbors=3)</pre><b>In a Jupyter environment, please rerun this cell to show the HTML representation or trust the notebook. <br />On GitHub, the HTML representation is unable to render, please try loading this page with nbviewer.org.</b></div><div class=\"sk-container\" hidden><div class=\"sk-item\"><div class=\"sk-estimator sk-toggleable\"><input class=\"sk-toggleable__control sk-hidden--visually\" id=\"sk-estimator-id-1\" type=\"checkbox\" checked><label for=\"sk-estimator-id-1\" class=\"sk-toggleable__label sk-toggleable__label-arrow\">KNeighborsRegressor</label><div class=\"sk-toggleable__content\"><pre>KNeighborsRegressor(n_neighbors=3)</pre></div></div></div></div></div>"
      ],
      "text/plain": [
       "KNeighborsRegressor(n_neighbors=3)"
      ]
     },
     "execution_count": 31,
     "metadata": {},
     "output_type": "execute_result"
    }
   ],
   "source": [
    "model.fit(X_train, y_train)"
   ]
  },
  {
   "cell_type": "code",
   "execution_count": 32,
   "id": "b4e073fb",
   "metadata": {},
   "outputs": [
    {
     "data": {
      "text/plain": [
       "0.8490415068117121"
      ]
     },
     "execution_count": 32,
     "metadata": {},
     "output_type": "execute_result"
    }
   ],
   "source": [
    "model.score(X_train, y_train)"
   ]
  },
  {
   "cell_type": "code",
   "execution_count": 33,
   "id": "9e24a336",
   "metadata": {},
   "outputs": [],
   "source": [
    "train_predictions = model.predict(X_train)"
   ]
  },
  {
   "cell_type": "code",
   "execution_count": 34,
   "id": "7e7245d5",
   "metadata": {},
   "outputs": [
    {
     "data": {
      "text/plain": [
       "70691.18291708567"
      ]
     },
     "execution_count": 34,
     "metadata": {},
     "output_type": "execute_result"
    }
   ],
   "source": [
    "sqrt(mean_squared_error(y_train, train_predictions))"
   ]
  },
  {
   "cell_type": "code",
   "execution_count": 35,
   "id": "ff1082f3",
   "metadata": {},
   "outputs": [
    {
     "data": {
      "text/plain": [
       "0.7029556682340569"
      ]
     },
     "execution_count": 35,
     "metadata": {},
     "output_type": "execute_result"
    }
   ],
   "source": [
    "model.score(X_test, y_test)"
   ]
  },
  {
   "cell_type": "code",
   "execution_count": 48,
   "id": "bcf78dd0",
   "metadata": {},
   "outputs": [
    {
     "data": {
      "text/plain": [
       "array(['city of london', 'barking and dagenham', 'barnet', 'bexley',\n",
       "       'brent', 'bromley', 'camden', 'croydon', 'ealing', 'enfield',\n",
       "       'greenwich', 'hackney', 'hammersmith and fulham', 'haringey',\n",
       "       'harrow', 'havering', 'hillingdon', 'hounslow', 'islington',\n",
       "       'kensington and chelsea', 'kingston upon thames', 'lambeth',\n",
       "       'lewisham', 'merton', 'newham', 'redbridge',\n",
       "       'richmond upon thames', 'southwark', 'sutton', 'tower hamlets',\n",
       "       'waltham forest', 'wandsworth', 'westminster', 'north east',\n",
       "       'north west', 'east midlands', 'west midlands', 'london',\n",
       "       'south east', 'south west', 'england', 'city of london',\n",
       "       'barking and dagenham', 'barnet', 'bexley', 'brent', 'bromley',\n",
       "       'camden', 'croydon', 'ealing', 'enfield', 'greenwich', 'hackney',\n",
       "       'hammersmith and fulham', 'haringey', 'harrow', 'havering',\n",
       "       'hillingdon', 'hounslow', 'islington', 'kensington and chelsea',\n",
       "       'kingston upon thames', 'lambeth', 'lewisham', 'merton', 'newham',\n",
       "       'redbridge', 'richmond upon thames', 'southwark', 'sutton',\n",
       "       'tower hamlets', 'waltham forest', 'wandsworth', 'westminster',\n",
       "       'north east', 'north west', 'east midlands', 'west midlands',\n",
       "       'london', 'south east', 'south west', 'england', 'city of london',\n",
       "       'barking and dagenham', 'barnet', 'bexley', 'brent', 'bromley',\n",
       "       'camden', 'croydon', 'ealing', 'enfield', 'greenwich', 'hackney',\n",
       "       'hammersmith and fulham', 'haringey', 'harrow', 'havering',\n",
       "       'hillingdon', 'hounslow', 'islington', 'kensington and chelsea',\n",
       "       'kingston upon thames', 'lambeth', 'lewisham', 'merton', 'newham',\n",
       "       'redbridge', 'richmond upon thames', 'southwark', 'sutton',\n",
       "       'tower hamlets', 'waltham forest', 'wandsworth', 'westminster',\n",
       "       'north east', 'north west', 'east midlands', 'west midlands',\n",
       "       'london', 'south east', 'south west', 'england', 'city of london',\n",
       "       'barking and dagenham', 'barnet', 'bexley', 'brent', 'bromley',\n",
       "       'camden', 'croydon', 'ealing', 'enfield', 'greenwich', 'hackney',\n",
       "       'hammersmith and fulham', 'haringey', 'harrow', 'havering',\n",
       "       'hillingdon', 'hounslow', 'islington', 'kensington and chelsea',\n",
       "       'kingston upon thames', 'lambeth', 'lewisham', 'merton', 'newham',\n",
       "       'redbridge', 'richmond upon thames', 'southwark', 'sutton',\n",
       "       'tower hamlets', 'waltham forest', 'wandsworth', 'westminster',\n",
       "       'north east', 'north west', 'east midlands', 'west midlands',\n",
       "       'london', 'south east', 'south west', 'england', 'city of london',\n",
       "       'barking and dagenham', 'barnet', 'bexley', 'brent', 'bromley',\n",
       "       'camden', 'croydon', 'ealing', 'enfield', 'greenwich', 'hackney',\n",
       "       'hammersmith and fulham', 'haringey', 'harrow', 'havering',\n",
       "       'hillingdon', 'hounslow', 'islington', 'kensington and chelsea',\n",
       "       'kingston upon thames', 'lambeth', 'lewisham', 'merton', 'newham',\n",
       "       'redbridge', 'richmond upon thames', 'southwark', 'sutton',\n",
       "       'tower hamlets', 'waltham forest', 'wandsworth', 'westminster',\n",
       "       'north east', 'north west', 'east midlands', 'west midlands',\n",
       "       'london', 'south east', 'south west', 'england', 'city of london',\n",
       "       'barking and dagenham', 'bexley', 'brent', 'bromley', 'camden',\n",
       "       'croydon', 'ealing', 'enfield', 'greenwich', 'hackney',\n",
       "       'hammersmith and fulham', 'haringey', 'harrow', 'havering',\n",
       "       'hillingdon', 'hounslow', 'islington', 'kensington and chelsea',\n",
       "       'kingston upon thames', 'lambeth', 'lewisham', 'merton',\n",
       "       'richmond upon thames', 'southwark', 'sutton', 'tower hamlets',\n",
       "       'waltham forest', 'wandsworth', 'westminster', 'north east',\n",
       "       'north west', 'east midlands', 'west midlands', 'london',\n",
       "       'south east', 'south west', 'inner london', 'outer london',\n",
       "       'england', 'city of london', 'barking and dagenham', 'barnet',\n",
       "       'bexley', 'brent', 'bromley', 'camden', 'croydon', 'ealing',\n",
       "       'enfield', 'greenwich', 'hackney', 'hammersmith and fulham',\n",
       "       'haringey', 'harrow', 'havering', 'hillingdon', 'hounslow',\n",
       "       'islington', 'kensington and chelsea', 'kingston upon thames',\n",
       "       'lambeth', 'lewisham', 'merton', 'newham', 'redbridge',\n",
       "       'richmond upon thames', 'southwark', 'sutton', 'tower hamlets',\n",
       "       'waltham forest', 'wandsworth', 'westminster', 'north east',\n",
       "       'north west', 'east midlands', 'west midlands', 'london',\n",
       "       'south east', 'south west', 'inner london', 'outer london',\n",
       "       'england', 'city of london', 'barking and dagenham', 'barnet',\n",
       "       'bexley', 'brent', 'bromley', 'camden', 'croydon', 'ealing',\n",
       "       'enfield', 'greenwich', 'hackney', 'hammersmith and fulham',\n",
       "       'haringey', 'harrow', 'havering', 'hillingdon', 'hounslow',\n",
       "       'islington', 'kensington and chelsea', 'kingston upon thames',\n",
       "       'lambeth', 'lewisham', 'merton', 'newham', 'redbridge',\n",
       "       'richmond upon thames', 'southwark', 'sutton', 'tower hamlets',\n",
       "       'waltham forest', 'wandsworth', 'westminster', 'north east',\n",
       "       'north west', 'east midlands', 'west midlands', 'london',\n",
       "       'south east', 'south west', 'inner london', 'outer london',\n",
       "       'england', 'city of london', 'barking and dagenham', 'barnet',\n",
       "       'bexley', 'brent', 'bromley', 'camden', 'croydon', 'ealing',\n",
       "       'enfield', 'greenwich', 'hackney', 'hammersmith and fulham',\n",
       "       'haringey', 'harrow', 'havering', 'hillingdon', 'hounslow',\n",
       "       'islington', 'kensington and chelsea', 'kingston upon thames',\n",
       "       'lambeth', 'lewisham', 'merton', 'newham', 'redbridge',\n",
       "       'richmond upon thames', 'southwark', 'sutton', 'tower hamlets',\n",
       "       'waltham forest', 'wandsworth', 'westminster', 'north east',\n",
       "       'north west', 'east midlands', 'west midlands', 'london',\n",
       "       'south east', 'south west', 'inner london', 'outer london',\n",
       "       'england', 'city of london', 'barking and dagenham', 'barnet',\n",
       "       'bexley', 'brent', 'bromley', 'camden', 'croydon', 'ealing',\n",
       "       'enfield', 'greenwich', 'hackney', 'haringey', 'harrow',\n",
       "       'havering', 'hillingdon', 'hounslow', 'islington',\n",
       "       'kensington and chelsea', 'kingston upon thames', 'lambeth',\n",
       "       'lewisham', 'merton', 'newham', 'redbridge',\n",
       "       'richmond upon thames', 'southwark', 'sutton', 'tower hamlets',\n",
       "       'waltham forest', 'wandsworth', 'westminster', 'north east',\n",
       "       'north west', 'east midlands', 'west midlands', 'london',\n",
       "       'south east', 'south west', 'inner london', 'outer london',\n",
       "       'england', 'city of london', 'barking and dagenham', 'barnet',\n",
       "       'bexley', 'brent', 'bromley', 'camden', 'croydon', 'ealing',\n",
       "       'enfield', 'greenwich', 'hackney', 'hammersmith and fulham',\n",
       "       'haringey', 'harrow', 'havering', 'hillingdon', 'hounslow',\n",
       "       'islington', 'kensington and chelsea', 'kingston upon thames',\n",
       "       'lambeth', 'lewisham', 'merton', 'newham', 'redbridge',\n",
       "       'richmond upon thames', 'southwark', 'sutton', 'tower hamlets',\n",
       "       'waltham forest', 'wandsworth', 'westminster', 'north east',\n",
       "       'north west', 'east midlands', 'west midlands', 'london',\n",
       "       'south east', 'south west', 'inner london', 'outer london',\n",
       "       'england', 'city of london', 'barking and dagenham', 'barnet',\n",
       "       'bexley', 'brent', 'bromley', 'camden', 'croydon', 'ealing',\n",
       "       'enfield', 'greenwich', 'hackney', 'hammersmith and fulham',\n",
       "       'haringey', 'harrow', 'havering', 'hillingdon', 'hounslow',\n",
       "       'islington', 'kensington and chelsea', 'kingston upon thames',\n",
       "       'lambeth', 'lewisham', 'merton', 'newham', 'redbridge',\n",
       "       'richmond upon thames', 'southwark', 'sutton', 'tower hamlets',\n",
       "       'waltham forest', 'wandsworth', 'westminster', 'north east',\n",
       "       'north west', 'east midlands', 'west midlands', 'london',\n",
       "       'south east', 'south west', 'inner london', 'outer london',\n",
       "       'england', 'city of london', 'barking and dagenham', 'barnet',\n",
       "       'bexley', 'brent', 'bromley', 'camden', 'croydon', 'ealing',\n",
       "       'enfield', 'greenwich', 'hackney', 'hammersmith and fulham',\n",
       "       'haringey', 'harrow', 'havering', 'hillingdon', 'hounslow',\n",
       "       'islington', 'kensington and chelsea', 'kingston upon thames',\n",
       "       'lambeth', 'lewisham', 'merton', 'newham', 'redbridge',\n",
       "       'richmond upon thames', 'southwark', 'sutton', 'tower hamlets',\n",
       "       'waltham forest', 'wandsworth', 'westminster', 'north east',\n",
       "       'north west', 'east midlands', 'west midlands', 'london',\n",
       "       'south east', 'south west', 'inner london', 'outer london',\n",
       "       'england', 'city of london', 'barking and dagenham', 'barnet',\n",
       "       'bexley', 'brent', 'bromley', 'camden', 'croydon', 'ealing',\n",
       "       'enfield', 'greenwich', 'hackney', 'hammersmith and fulham',\n",
       "       'haringey', 'harrow', 'havering', 'hillingdon', 'hounslow',\n",
       "       'islington', 'kensington and chelsea', 'kingston upon thames',\n",
       "       'lambeth', 'lewisham', 'merton', 'newham', 'redbridge',\n",
       "       'richmond upon thames', 'southwark', 'sutton', 'tower hamlets',\n",
       "       'waltham forest', 'wandsworth', 'westminster', 'north east',\n",
       "       'north west', 'east midlands', 'west midlands', 'london',\n",
       "       'south east', 'south west', 'inner london', 'outer london',\n",
       "       'england', 'city of london', 'barking and dagenham', 'barnet',\n",
       "       'bexley', 'brent', 'bromley', 'camden', 'croydon', 'ealing',\n",
       "       'enfield', 'greenwich', 'hackney', 'hammersmith and fulham',\n",
       "       'haringey', 'harrow', 'havering', 'hillingdon', 'hounslow',\n",
       "       'islington', 'kensington and chelsea', 'kingston upon thames',\n",
       "       'lambeth', 'lewisham', 'merton', 'newham', 'redbridge',\n",
       "       'richmond upon thames', 'southwark', 'sutton', 'tower hamlets',\n",
       "       'wandsworth', 'westminster', 'north east', 'north west',\n",
       "       'east midlands', 'west midlands', 'london', 'south east',\n",
       "       'south west', 'inner london', 'outer london', 'england',\n",
       "       'city of london', 'barking and dagenham', 'barnet', 'bexley',\n",
       "       'brent', 'bromley', 'camden', 'croydon', 'ealing', 'enfield',\n",
       "       'greenwich', 'hackney', 'hammersmith and fulham', 'haringey',\n",
       "       'harrow', 'havering', 'hillingdon', 'hounslow', 'islington',\n",
       "       'kensington and chelsea', 'kingston upon thames', 'lambeth',\n",
       "       'lewisham', 'merton', 'newham', 'redbridge',\n",
       "       'richmond upon thames', 'southwark', 'sutton', 'tower hamlets',\n",
       "       'waltham forest', 'wandsworth', 'westminster', 'north east',\n",
       "       'north west', 'east midlands', 'west midlands', 'london',\n",
       "       'south east', 'south west', 'inner london', 'outer london',\n",
       "       'england', 'city of london', 'barking and dagenham', 'barnet',\n",
       "       'bexley', 'brent', 'bromley', 'camden', 'croydon', 'ealing',\n",
       "       'enfield', 'greenwich', 'hackney', 'hammersmith and fulham',\n",
       "       'haringey', 'harrow', 'havering', 'hillingdon', 'hounslow',\n",
       "       'islington', 'kensington and chelsea', 'kingston upon thames',\n",
       "       'lambeth', 'lewisham', 'merton', 'newham', 'redbridge',\n",
       "       'richmond upon thames', 'southwark', 'sutton', 'tower hamlets',\n",
       "       'waltham forest', 'wandsworth', 'westminster', 'north east',\n",
       "       'north west', 'east midlands', 'west midlands', 'london',\n",
       "       'south east', 'south west', 'inner london', 'outer london',\n",
       "       'england', 'city of london', 'barking and dagenham', 'barnet',\n",
       "       'brent', 'bromley', 'camden', 'croydon', 'ealing', 'enfield',\n",
       "       'greenwich', 'hackney', 'hammersmith and fulham', 'haringey',\n",
       "       'harrow', 'havering', 'hillingdon', 'hounslow', 'islington',\n",
       "       'kensington and chelsea', 'kingston upon thames', 'lambeth',\n",
       "       'lewisham', 'merton', 'newham', 'redbridge',\n",
       "       'richmond upon thames', 'southwark', 'sutton', 'tower hamlets',\n",
       "       'waltham forest', 'wandsworth', 'westminster', 'north east',\n",
       "       'north west', 'east midlands', 'west midlands', 'london',\n",
       "       'south east', 'south west', 'inner london', 'outer london',\n",
       "       'england', 'city of london', 'barking and dagenham', 'barnet',\n",
       "       'bexley', 'brent', 'bromley', 'camden', 'croydon', 'ealing',\n",
       "       'enfield', 'greenwich', 'hackney', 'hammersmith and fulham',\n",
       "       'haringey', 'harrow', 'havering', 'hillingdon', 'hounslow',\n",
       "       'islington', 'kensington and chelsea', 'kingston upon thames',\n",
       "       'lambeth', 'lewisham', 'merton', 'newham', 'redbridge',\n",
       "       'richmond upon thames', 'southwark', 'sutton', 'tower hamlets',\n",
       "       'waltham forest', 'wandsworth', 'westminster', 'north east',\n",
       "       'north west', 'east midlands', 'west midlands', 'london',\n",
       "       'south east', 'south west', 'inner london', 'outer london',\n",
       "       'england', 'city of london', 'barking and dagenham', 'barnet',\n",
       "       'brent', 'bromley', 'camden', 'croydon', 'ealing', 'enfield',\n",
       "       'greenwich', 'hackney', 'hammersmith and fulham', 'haringey',\n",
       "       'harrow', 'havering', 'hillingdon', 'hounslow', 'islington',\n",
       "       'kensington and chelsea', 'lambeth', 'lewisham', 'merton',\n",
       "       'newham', 'richmond upon thames', 'southwark', 'sutton',\n",
       "       'tower hamlets', 'waltham forest', 'wandsworth', 'westminster',\n",
       "       'north east', 'north west', 'east midlands', 'west midlands',\n",
       "       'london', 'south east', 'south west', 'inner london',\n",
       "       'outer london', 'england'], dtype=object)"
      ]
     },
     "execution_count": 48,
     "metadata": {},
     "output_type": "execute_result"
    }
   ],
   "source": [
    "encoder.inverse_transform(yearly_data['area'])"
   ]
  },
  {
   "cell_type": "code",
   "execution_count": null,
   "id": "119b154b",
   "metadata": {},
   "outputs": [],
   "source": []
  }
 ],
 "metadata": {
  "kernelspec": {
   "display_name": "ds-ml",
   "language": "python",
   "name": "ds-ml"
  },
  "language_info": {
   "codemirror_mode": {
    "name": "ipython",
    "version": 3
   },
   "file_extension": ".py",
   "mimetype": "text/x-python",
   "name": "python",
   "nbconvert_exporter": "python",
   "pygments_lexer": "ipython3",
   "version": "3.11.2"
  }
 },
 "nbformat": 4,
 "nbformat_minor": 5
}
